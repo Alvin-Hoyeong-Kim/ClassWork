{
 "cells": [
  {
   "cell_type": "markdown",
   "id": "1ba1cb63",
   "metadata": {},
   "source": [
    "Python Assignment 2: Learning about different linear regression and decision tree model"
   ]
  },
  {
   "cell_type": "markdown",
   "id": "d56ef2be",
   "metadata": {},
   "source": [
    "Use the “Old Faithful Geyser” dataset geyser.tsv to perform the tasks listed below. This dataset is available on \n",
    "Canvas under the Data folder. "
   ]
  },
  {
   "cell_type": "markdown",
   "id": "da22e862",
   "metadata": {},
   "source": [
    "1. Read the dataset as a pandas dataframe and create two random partitions: train and test. Use 2/3rd\n",
    "of the data for training and the remainder for testing"
   ]
  },
  {
   "cell_type": "code",
   "execution_count": 12,
   "id": "6948f922",
   "metadata": {},
   "outputs": [
    {
     "name": "stdout",
     "output_type": "stream",
     "text": [
      "   eruptions  waiting\n",
      "0      3.600       79\n",
      "1      1.800       54\n",
      "2      3.333       74\n",
      "3      2.283       62\n",
      "4      4.533       85\n",
      "     eruptions  waiting\n",
      "0        4.800       84\n",
      "1        1.967       55\n",
      "2        1.700       59\n",
      "3        4.850       86\n",
      "4        4.500       79\n",
      "..         ...      ...\n",
      "174      4.150       75\n",
      "175      4.567       84\n",
      "176      4.350       82\n",
      "177      3.683       81\n",
      "178      1.950       51\n",
      "\n",
      "[179 rows x 2 columns]\n",
      "    eruptions  waiting\n",
      "0       2.400       53\n",
      "1       4.600       85\n",
      "2       4.417       87\n",
      "3       3.883       76\n",
      "4       1.817       60\n",
      "..        ...      ...\n",
      "88      4.550       79\n",
      "89      1.867       51\n",
      "90      2.000       59\n",
      "91      3.950       79\n",
      "92      4.800       81\n",
      "\n",
      "[93 rows x 2 columns]\n"
     ]
    }
   ],
   "source": [
    "# data processing\n",
    "import pandas as pd\n",
    "import numpy as np\n",
    "# modeling\n",
    "from sklearn.model_selection import train_test_split\n",
    "from sklearn.tree import DecisionTreeRegressor\n",
    "from sklearn.linear_model import LinearRegression \n",
    "from sklearn.metrics import mean_squared_error\n",
    "linreg = LinearRegression()\n",
    "\n",
    "# plotting\n",
    "import matplotlib.pyplot as plt\n",
    "import seaborn as sns\n",
    "\n",
    "#Reading the dataframe \n",
    "df = pd.read_csv(r\"https://raw.githubusercontent.com/Alvin-Hoyeong-Kim/ClassWork/main/Python/Data/geyser.tsv\", sep='\\t')\n",
    "print(df.head())\n",
    "\n",
    "\n",
    "X_train, X_test, y_train, y_test =  \\\n",
    "train_test_split(df.eruptions, df.waiting, test_size=0.34, random_state=314)\n",
    "\n",
    "X_train.head()\n",
    "\n",
    "#Creating a training dataframe\n",
    "L = [list(row) for row in zip(X_train, y_train)]\n",
    "df_train = pd.DataFrame(L, columns=['eruptions', 'waiting'])\n",
    "print(df_train)\n",
    "\n",
    "#Creating a testing dataframe\n",
    "L = [list(row) for row in zip(X_test, y_test)]\n",
    "df_test = pd.DataFrame(L, columns=['eruptions', 'waiting'])\n",
    "print(df_test)"
   ]
  },
  {
   "cell_type": "markdown",
   "id": "5eea12df",
   "metadata": {},
   "source": [
    "2. Use the train set to build a Linear Regression model and a Decision Tree regression model by using \n",
    "eruptions as the dependent variable and waiting as the target variable (label). Use the default \n",
    "hyper-parameters for both models. Use a random_state value for the Decision Tree model."
   ]
  },
  {
   "cell_type": "code",
   "execution_count": 13,
   "id": "23ca0d7e",
   "metadata": {},
   "outputs": [
    {
     "name": "stdout",
     "output_type": "stream",
     "text": [
      "LinearRegression()\n"
     ]
    },
    {
     "data": {
      "text/plain": [
       "(array([34.19479103]), array([[10.47477409]]))"
      ]
     },
     "execution_count": 13,
     "metadata": {},
     "output_type": "execute_result"
    }
   ],
   "source": [
    "#building lienar regression model\n",
    "x = df_train.eruptions.values.reshape(-1,1)\n",
    "y = df_train.waiting.values.reshape(-1,1)\n",
    "\n",
    "print(linreg.fit(x, y))\n",
    "linreg.intercept_, linreg.coef_"
   ]
  },
  {
   "cell_type": "code",
   "execution_count": 14,
   "id": "6e3d0b41",
   "metadata": {},
   "outputs": [
    {
     "data": {
      "text/plain": [
       "DecisionTreeRegressor(random_state=314)"
      ]
     },
     "execution_count": 14,
     "metadata": {},
     "output_type": "execute_result"
    }
   ],
   "source": [
    "#Building a decision tree model \n",
    "dtree = DecisionTreeRegressor(random_state=314)\n",
    "dtree = dtree.fit(x, y)\n",
    "dtree\n"
   ]
  },
  {
   "cell_type": "markdown",
   "id": "488d653b",
   "metadata": {},
   "source": [
    "3.How many leaf nodes does the Decision Tree model have? What's the depth of the model?"
   ]
  },
  {
   "cell_type": "code",
   "execution_count": 15,
   "id": "5f8815bd",
   "metadata": {},
   "outputs": [
    {
     "name": "stdout",
     "output_type": "stream",
     "text": [
      "There are 103 leaves in the model\n",
      "Depth of the model is 15\n"
     ]
    }
   ],
   "source": [
    "print(\"There are \"+str(dtree.get_n_leaves()) +\" leaves in the model\")\n",
    "print(\"Depth of the model is \"+ str(dtree.get_depth()))"
   ]
  },
  {
   "cell_type": "markdown",
   "id": "280d5cee",
   "metadata": {},
   "source": [
    "4. Make predictions on the test dataset, and calculate the Mean Squared Errors (MSE) for both models. \n",
    "While model has a lower MSE? Would you conclude that the model with lower MSE is better than the \n",
    "other model? Why?"
   ]
  },
  {
   "cell_type": "code",
   "execution_count": 16,
   "id": "2dc6a1d9",
   "metadata": {
    "scrolled": true
   },
   "outputs": [
    {
     "name": "stdout",
     "output_type": "stream",
     "text": [
      "0     59.070107\n",
      "1     83.682073\n",
      "2     81.634805\n",
      "3     75.660810\n",
      "4     52.547937\n",
      "        ...    \n",
      "88    83.122710\n",
      "89    53.107299\n",
      "90    54.595205\n",
      "91    76.410356\n",
      "92    85.919525\n",
      "Name: linpreds, Length: 93, dtype: float64 0     53\n",
      "1     85\n",
      "2     87\n",
      "3     76\n",
      "4     60\n",
      "      ..\n",
      "88    79\n",
      "89    51\n",
      "90    59\n",
      "91    79\n",
      "92    81\n",
      "Name: waiting, Length: 93, dtype: int64\n"
     ]
    },
    {
     "data": {
      "text/plain": [
       "28.462196985450895"
      ]
     },
     "execution_count": 16,
     "metadata": {},
     "output_type": "execute_result"
    }
   ],
   "source": [
    "#Making predictions on the test dataset \n",
    "x_test = df_test.eruptions.values.reshape(-1,1)\n",
    "y_test = df_test.waiting.values.reshape(-1,1)\n",
    "\n",
    "linreg.fit(x_test, y_test)\n",
    "#Making prediction on dataframe \n",
    "linreg.intercept_, linreg.coef_\n",
    "\n",
    "df_test['linpreds'] = linreg.predict(x_test)\n",
    "print(df_test['linpreds'] , df_test['waiting'])\n",
    "lmse = mean_squared_error(df_test['linpreds'], df_test['waiting'])\n",
    "lmse\n"
   ]
  },
  {
   "cell_type": "code",
   "execution_count": 17,
   "id": "2505a63a",
   "metadata": {
    "scrolled": false
   },
   "outputs": [
    {
     "name": "stdout",
     "output_type": "stream",
     "text": [
      "0     59.000000\n",
      "1     85.000000\n",
      "2     83.000000\n",
      "3     76.000000\n",
      "4     59.500000\n",
      "        ...    \n",
      "88    79.000000\n",
      "89    48.333333\n",
      "90    57.500000\n",
      "91    79.000000\n",
      "92    87.500000\n",
      "Name: Treepreds, Length: 93, dtype: float64 0     53\n",
      "1     85\n",
      "2     87\n",
      "3     76\n",
      "4     60\n",
      "      ..\n",
      "88    79\n",
      "89    51\n",
      "90    59\n",
      "91    79\n",
      "92    81\n",
      "Name: waiting, Length: 93, dtype: int64\n"
     ]
    },
    {
     "data": {
      "text/plain": [
       "5.127240143369176"
      ]
     },
     "execution_count": 17,
     "metadata": {},
     "output_type": "execute_result"
    }
   ],
   "source": [
    "# fit the model\n",
    "dtree = dtree.fit(x_test, y_test)\n",
    "\n",
    "# make predictions\n",
    "df_test['Treepreds'] = dtree.predict(x_test)\n",
    "print(df_test['Treepreds'] , df_test['waiting'])\n",
    "Tmse = mean_squared_error(y_test, df_test.Treepreds)\n",
    "\n",
    "Tmse"
   ]
  },
  {
   "cell_type": "code",
   "execution_count": 18,
   "id": "a13b32c5",
   "metadata": {},
   "outputs": [
    {
     "name": "stdout",
     "output_type": "stream",
     "text": [
      "So it looks like the decision tree has a lower MSE. I would take this with a grain of salt as this has been overfitting the model :P. \n"
     ]
    }
   ],
   "source": [
    "print(\"So it looks like the decision tree has a lower MSE. I would take this with a grain of salt as this has been overfitting the model :P. \" )"
   ]
  },
  {
   "cell_type": "markdown",
   "id": "ea56efbb",
   "metadata": {},
   "source": [
    "5. Pick one of the following three hyperparameters: max_depth, min_values_split, min_values_leaf\n",
    "and perform an experiment to see how it impacts the model. Choose five different values for the \n",
    "hyper-parameter of your choice and train a Decision Tree model for each. Use a for loop for this \n",
    "experiment.\n",
    "Calculate MSE for all five models on the test data. Which one of the five models produced the best \n",
    "MSE? How does it compare with the Linear Regression model's MSE?"
   ]
  },
  {
   "cell_type": "code",
   "execution_count": 19,
   "id": "07452093",
   "metadata": {},
   "outputs": [
    {
     "name": "stdout",
     "output_type": "stream",
     "text": [
      "Max dept this time was 1\n",
      "37.19085753492211\n",
      "Max dept this time was 2\n",
      "28.41338252451676\n",
      "Max dept this time was 3\n",
      "23.00878858298213\n",
      "Max dept this time was 4\n",
      "17.80895576971678\n",
      "Max dept this time was 5\n",
      "13.780203619909502\n"
     ]
    }
   ],
   "source": [
    "for i in range (1,6):\n",
    "    dtree = DecisionTreeRegressor(max_depth=i, random_state=314)\n",
    "    print(\"Max dept this time was \"+ str(i))\n",
    "    dtree = dtree.fit(x_test, y_test)\n",
    "    # make predictions\n",
    "    df_test['Treepreds'] = dtree.predict(x_test)\n",
    "    Tmse = mean_squared_error(y_test, df_test.Treepreds)\n",
    "    print(Tmse)\n",
    "    \n",
    "    \n",
    "\n",
    "#Seems like the model with the best MSE which is the lowest MSE turned out to be the model with highest number of depths. It did alot better than the other model"
   ]
  },
  {
   "cell_type": "markdown",
   "id": "ff2fbe81",
   "metadata": {},
   "source": [
    "Seems like the model with the best MSE which is the lowest MSE turned out to be the model with highest number of depths. It did alot better than the linear model as we dive deeper into the depth of the tree. "
   ]
  }
 ],
 "metadata": {
  "kernelspec": {
   "display_name": "Python 3 (ipykernel)",
   "language": "python",
   "name": "python3"
  },
  "language_info": {
   "codemirror_mode": {
    "name": "ipython",
    "version": 3
   },
   "file_extension": ".py",
   "mimetype": "text/x-python",
   "name": "python",
   "nbconvert_exporter": "python",
   "pygments_lexer": "ipython3",
   "version": "3.9.13"
  }
 },
 "nbformat": 4,
 "nbformat_minor": 5
}
